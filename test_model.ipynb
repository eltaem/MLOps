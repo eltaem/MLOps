{
 "cells": [
  {
   "cell_type": "code",
   "execution_count": 33,
   "id": "b04eeda0",
   "metadata": {},
   "outputs": [],
   "source": [
    "# Test Notebook for Iris Model\n",
    "# ----------------------------\n",
    "\n",
    "import joblib\n",
    "import pandas as pd\n",
    "from sklearn.metrics import accuracy_score"
   ]
  },
  {
   "cell_type": "code",
   "execution_count": 34,
   "id": "51ae9cef",
   "metadata": {},
   "outputs": [],
   "source": [
    "# 1. Load the trained model\n",
    "with open('model.pkl', 'rb') as file:\n",
    "    model = joblib.load(file)"
   ]
  },
  {
   "cell_type": "code",
   "execution_count": 35,
   "id": "67c2de94",
   "metadata": {},
   "outputs": [],
   "source": [
    "# 2. Load the dataset (use the same iris.csv for now)\n",
    "df = pd.read_csv(\"iris.csv\")\n",
    "df = df.sample(frac=1, random_state=42)\n",
    "X = df.drop(\"variety\", axis=1)\n",
    "y_true = df[\"variety\"]"
   ]
  },
  {
   "cell_type": "code",
   "execution_count": 36,
   "id": "ad44c65b",
   "metadata": {},
   "outputs": [],
   "source": [
    "# 3. Make predictions\n",
    "y_pred = model.predict(X)"
   ]
  },
  {
   "cell_type": "code",
   "execution_count": 37,
   "id": "7a5755ac",
   "metadata": {},
   "outputs": [
    {
     "name": "stdout",
     "output_type": "stream",
     "text": [
      "Model Accuracy on full dataset: 98.68%\n"
     ]
    }
   ],
   "source": [
    "# 4. Evaluate model performance\n",
    "accuracy = accuracy_score(y_true, y_pred)\n",
    "print(f\"Model Accuracy on full dataset: {accuracy * 100:.2f}%\")"
   ]
  },
  {
   "cell_type": "code",
   "execution_count": 38,
   "id": "a38cd88e",
   "metadata": {},
   "outputs": [
    {
     "name": "stdout",
     "output_type": "stream",
     "text": [
      "\n",
      "Preview of predictions:\n",
      "         Actual   Predicted\n",
      "76   Versicolor  Versicolor\n",
      "18       Setosa      Setosa\n",
      "82   Versicolor  Versicolor\n",
      "81   Versicolor  Versicolor\n",
      "143   Virginica   Virginica\n",
      "31       Setosa      Setosa\n",
      "78   Versicolor  Versicolor\n",
      "64   Versicolor  Versicolor\n",
      "55   Versicolor  Versicolor\n",
      "85   Versicolor  Versicolor\n"
     ]
    }
   ],
   "source": [
    "# 5. (Optional) Preview some predictions\n",
    "preview = pd.DataFrame({\n",
    "    \"Actual\": y_true[:10],\n",
    "    \"Predicted\": y_pred[:10]\n",
    "})\n",
    "print(\"\\nPreview of predictions:\")\n",
    "print(preview)"
   ]
  }
 ],
 "metadata": {
  "kernelspec": {
   "display_name": "base",
   "language": "python",
   "name": "python3"
  },
  "language_info": {
   "codemirror_mode": {
    "name": "ipython",
    "version": 3
   },
   "file_extension": ".py",
   "mimetype": "text/x-python",
   "name": "python",
   "nbconvert_exporter": "python",
   "pygments_lexer": "ipython3",
   "version": "3.13.5"
  }
 },
 "nbformat": 4,
 "nbformat_minor": 5
}

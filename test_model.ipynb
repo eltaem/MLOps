{
 "cells": [
  {
   "cell_type": "code",
   "execution_count": 3,
   "id": "b04eeda0",
   "metadata": {},
   "outputs": [],
   "source": [
    "# Test Notebook for Iris Model\n",
    "# ----------------------------\n",
    "\n",
    "import joblib\n",
    "import pandas as pd\n",
    "from sklearn.metrics import accuracy_score"
   ]
  },
  {
   "cell_type": "code",
   "execution_count": 4,
   "id": "51ae9cef",
   "metadata": {},
   "outputs": [],
   "source": [
    "# 1. Load the trained model\n",
    "with open('model.pkl', 'rb') as file:\n",
    "    model = joblib.load(file)"
   ]
  },
  {
   "cell_type": "code",
   "execution_count": 5,
   "id": "67c2de94",
   "metadata": {},
   "outputs": [],
   "source": [
    "# 2. Load the dataset (use the same iris.csv for now)\n",
    "df = pd.read_csv(\"iris.csv\")\n",
    "X = df.drop(\"variety\", axis=1)\n",
    "y_true = df[\"variety\"]"
   ]
  },
  {
   "cell_type": "code",
   "execution_count": 6,
   "id": "ad44c65b",
   "metadata": {},
   "outputs": [],
   "source": [
    "# 3. Make predictions\n",
    "y_pred = model.predict(X)"
   ]
  },
  {
   "cell_type": "code",
   "execution_count": 7,
   "id": "7a5755ac",
   "metadata": {},
   "outputs": [
    {
     "name": "stdout",
     "output_type": "stream",
     "text": [
      "Model Accuracy on full dataset: 99.34%\n"
     ]
    }
   ],
   "source": [
    "# 4. Evaluate model performance\n",
    "accuracy = accuracy_score(y_true, y_pred)\n",
    "print(f\"Model Accuracy on full dataset: {accuracy * 100:.2f}%\")"
   ]
  },
  {
   "cell_type": "code",
   "execution_count": 8,
   "id": "a38cd88e",
   "metadata": {},
   "outputs": [
    {
     "name": "stdout",
     "output_type": "stream",
     "text": [
      "\n",
      "Preview of predictions:\n",
      "   Actual Predicted\n",
      "0  Setosa    Setosa\n",
      "1  Setosa    Setosa\n",
      "2  Setosa    Setosa\n",
      "3  Setosa    Setosa\n",
      "4  Setosa    Setosa\n",
      "5  Setosa    Setosa\n",
      "6  Setosa    Setosa\n",
      "7  Setosa    Setosa\n",
      "8  Setosa    Setosa\n",
      "9  Setosa    Setosa\n"
     ]
    }
   ],
   "source": [
    "# 5. (Optional) Preview some predictions\n",
    "preview = pd.DataFrame({\n",
    "    \"Actual\": y_true[:10],\n",
    "    \"Predicted\": y_pred[:10]\n",
    "})\n",
    "print(\"\\nPreview of predictions:\")\n",
    "print(preview)"
   ]
  }
 ],
 "metadata": {
  "kernelspec": {
   "display_name": "base",
   "language": "python",
   "name": "python3"
  },
  "language_info": {
   "codemirror_mode": {
    "name": "ipython",
    "version": 3
   },
   "file_extension": ".py",
   "mimetype": "text/x-python",
   "name": "python",
   "nbconvert_exporter": "python",
   "pygments_lexer": "ipython3",
   "version": "3.13.5"
  }
 },
 "nbformat": 4,
 "nbformat_minor": 5
}

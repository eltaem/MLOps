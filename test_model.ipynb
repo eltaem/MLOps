{
 "cells": [
  {
   "cell_type": "code",
   "execution_count": null,
   "id": "b04eeda0",
   "metadata": {},
   "outputs": [],
   "source": [
    "# Test Notebook for Iris Model\n",
    "# ----------------------------\n",
    "\n",
    "import pickle\n",
    "import pandas as pd\n",
    "from sklearn.metrics import accuracy_score"
   ]
  },
  {
   "cell_type": "code",
   "execution_count": null,
   "id": "51ae9cef",
   "metadata": {},
   "outputs": [],
   "source": [
    "# 1. Load the trained model\n",
    "with open(\"model.pkl\", \"rb\") as f:\n",
    "    model = pickle.load(f)"
   ]
  },
  {
   "cell_type": "code",
   "execution_count": null,
   "id": "67c2de94",
   "metadata": {},
   "outputs": [],
   "source": [
    "# 2. Load the dataset (use the same iris.csv for now)\n",
    "df = pd.read_csv(\"iris.csv\")\n",
    "X = df.drop(\"species\", axis=1)\n",
    "y_true = df[\"species\"]"
   ]
  },
  {
   "cell_type": "code",
   "execution_count": null,
   "id": "ad44c65b",
   "metadata": {},
   "outputs": [],
   "source": [
    "# 3. Make predictions\n",
    "y_pred = model.predict(X)"
   ]
  },
  {
   "cell_type": "code",
   "execution_count": null,
   "id": "7a5755ac",
   "metadata": {},
   "outputs": [],
   "source": [
    "# 4. Evaluate model performance\n",
    "accuracy = accuracy_score(y_true, y_pred)\n",
    "print(f\"Model Accuracy on full dataset: {accuracy * 100:.2f}%\")"
   ]
  },
  {
   "cell_type": "code",
   "execution_count": null,
   "id": "a38cd88e",
   "metadata": {},
   "outputs": [],
   "source": [
    "# 5. (Optional) Preview some predictions\n",
    "preview = pd.DataFrame({\n",
    "    \"Actual\": y_true[:10],\n",
    "    \"Predicted\": y_pred[:10]\n",
    "})\n",
    "print(\"\\nPreview of predictions:\")\n",
    "print(preview)"
   ]
  }
 ],
 "metadata": {
  "language_info": {
   "name": "python"
  }
 },
 "nbformat": 4,
 "nbformat_minor": 5
}

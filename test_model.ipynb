{
 "cells": [
  {
   "cell_type": "code",
   "execution_count": null,
   "id": "b04eeda0",
   "metadata": {},
   "outputs": [],
   "source": [
    "# Test Notebook for Iris Model\n",
    "# ----------------------------\n",
    "\n",
    "import joblib\n",
    "import pandas as pd\n",
    "from sklearn.metrics import accuracy_score"
   ]
  },
  {
   "cell_type": "code",
   "execution_count": null,
   "id": "51ae9cef",
   "metadata": {},
   "outputs": [
    {
     "ename": "UnpicklingError",
     "evalue": "STACK_GLOBAL requires str",
     "output_type": "error",
     "traceback": [
      "\u001b[31m---------------------------------------------------------------------------\u001b[39m",
      "\u001b[31mUnpicklingError\u001b[39m                           Traceback (most recent call last)",
      "\u001b[36mCell\u001b[39m\u001b[36m \u001b[39m\u001b[32mIn[2]\u001b[39m\u001b[32m, line 3\u001b[39m\n\u001b[32m      1\u001b[39m \u001b[38;5;66;03m# 1. Load the trained model\u001b[39;00m\n\u001b[32m      2\u001b[39m \u001b[38;5;28;01mwith\u001b[39;00m \u001b[38;5;28mopen\u001b[39m(\u001b[33m'\u001b[39m\u001b[33mmodel.pkl\u001b[39m\u001b[33m'\u001b[39m, \u001b[33m'\u001b[39m\u001b[33mrb\u001b[39m\u001b[33m'\u001b[39m) \u001b[38;5;28;01mas\u001b[39;00m file:\n\u001b[32m----> \u001b[39m\u001b[32m3\u001b[39m     model = \u001b[43mpickle\u001b[49m\u001b[43m.\u001b[49m\u001b[43mload\u001b[49m\u001b[43m(\u001b[49m\u001b[43mfile\u001b[49m\u001b[43m)\u001b[49m\n",
      "\u001b[31mUnpicklingError\u001b[39m: STACK_GLOBAL requires str"
     ]
    }
   ],
   "source": [
    "# 1. Load the trained model\n",
    "with open('model.pkl', 'rb') as file:\n",
    "    model = joblib.load(file)"
   ]
  },
  {
   "cell_type": "code",
   "execution_count": null,
   "id": "67c2de94",
   "metadata": {},
   "outputs": [],
   "source": [
    "# 2. Load the dataset (use the same iris.csv for now)\n",
    "df = pd.read_csv(\"iris.csv\")\n",
    "X = df.drop(\"variety\", axis=1)\n",
    "y_true = df[\"variety\"]"
   ]
  },
  {
   "cell_type": "code",
   "execution_count": null,
   "id": "ad44c65b",
   "metadata": {},
   "outputs": [
    {
     "ename": "NameError",
     "evalue": "name 'model' is not defined",
     "output_type": "error",
     "traceback": [
      "\u001b[31m---------------------------------------------------------------------------\u001b[39m",
      "\u001b[31mNameError\u001b[39m                                 Traceback (most recent call last)",
      "\u001b[36mCell\u001b[39m\u001b[36m \u001b[39m\u001b[32mIn[15]\u001b[39m\u001b[32m, line 2\u001b[39m\n\u001b[32m      1\u001b[39m \u001b[38;5;66;03m# 3. Make predictions\u001b[39;00m\n\u001b[32m----> \u001b[39m\u001b[32m2\u001b[39m y_pred = \u001b[43mmodel\u001b[49m.predict(X)\n",
      "\u001b[31mNameError\u001b[39m: name 'model' is not defined"
     ]
    }
   ],
   "source": [
    "# 3. Make predictions\n",
    "y_pred = model.predict(X)"
   ]
  },
  {
   "cell_type": "code",
   "execution_count": null,
   "id": "7a5755ac",
   "metadata": {},
   "outputs": [],
   "source": [
    "# 4. Evaluate model performance\n",
    "accuracy = accuracy_score(y_true, y_pred)\n",
    "print(f\"Model Accuracy on full dataset: {accuracy * 100:.2f}%\")"
   ]
  },
  {
   "cell_type": "code",
   "execution_count": null,
   "id": "a38cd88e",
   "metadata": {},
   "outputs": [],
   "source": [
    "# 5. (Optional) Preview some predictions\n",
    "preview = pd.DataFrame({\n",
    "    \"Actual\": y_true[:10],\n",
    "    \"Predicted\": y_pred[:10]\n",
    "})\n",
    "print(\"\\nPreview of predictions:\")\n",
    "print(preview)"
   ]
  }
 ],
 "metadata": {
  "kernelspec": {
   "display_name": "base",
   "language": "python",
   "name": "python3"
  },
  "language_info": {
   "codemirror_mode": {
    "name": "ipython",
    "version": 3
   },
   "file_extension": ".py",
   "mimetype": "text/x-python",
   "name": "python",
   "nbconvert_exporter": "python",
   "pygments_lexer": "ipython3",
   "version": "3.13.5"
  }
 },
 "nbformat": 4,
 "nbformat_minor": 5
}

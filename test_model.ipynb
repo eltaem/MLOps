{
 "cells": [
  {
   "cell_type": "code",
   "execution_count": 8,
   "id": "b04eeda0",
   "metadata": {},
   "outputs": [],
   "source": [
    "# Test Notebook for Iris Model\n",
    "# ----------------------------\n",
    "\n",
    "import joblib\n",
    "import pandas as pd\n",
    "from sklearn.metrics import accuracy_score"
   ]
  },
  {
   "cell_type": "code",
   "execution_count": 9,
   "id": "51ae9cef",
   "metadata": {},
   "outputs": [],
   "source": [
    "# 1. Load the trained model and label\n",
    "data = joblib.load(\"model_and_encoder.joblib\")\n",
    "model = data[\"model\"]\n",
    "le = data[\"encoder\"]"
   ]
  },
  {
   "cell_type": "code",
   "execution_count": 10,
   "id": "67c2de94",
   "metadata": {},
   "outputs": [],
   "source": [
    "# 2. Load the dataset (use the same iris.csv for now)\n",
    "df = pd.read_csv(\"iris.csv\")\n",
    "df = df.sample(frac=1, random_state=42)\n",
    "X = df.drop(\"variety\", axis=1)\n",
    "y_true = df[\"variety\"]"
   ]
  },
  {
   "cell_type": "code",
   "execution_count": 11,
   "id": "ad44c65b",
   "metadata": {},
   "outputs": [],
   "source": [
    "# 3. Make predictions\n",
    "y_pred_encoded = model.predict(X)\n",
    "y_pred = le.inverse_transform(y_pred_encoded)"
   ]
  },
  {
   "cell_type": "code",
   "execution_count": 12,
   "id": "7a5755ac",
   "metadata": {},
   "outputs": [
    {
     "name": "stdout",
     "output_type": "stream",
     "text": [
      "Model Accuracy on full dataset: 98.72%\n"
     ]
    }
   ],
   "source": [
    "# 4. Evaluate model performance\n",
    "accuracy = accuracy_score(y_true, y_pred)\n",
    "print(f\"Model Accuracy on full dataset: {accuracy * 100:.2f}%\")"
   ]
  },
  {
   "cell_type": "code",
   "execution_count": 13,
   "id": "a38cd88e",
   "metadata": {},
   "outputs": [
    {
     "name": "stdout",
     "output_type": "stream",
     "text": [
      "\n",
      "Preview of predictions:\n",
      "         Actual   Predicted\n",
      "96   Versicolor  Versicolor\n",
      "69   Versicolor  Versicolor\n",
      "82   Versicolor  Versicolor\n",
      "76   Versicolor  Versicolor\n",
      "114   Virginica   Virginica\n",
      "29       Setosa      Setosa\n",
      "94   Versicolor  Versicolor\n",
      "132   Virginica   Virginica\n",
      "93   Versicolor  Versicolor\n",
      "139   Virginica   Virginica\n"
     ]
    }
   ],
   "source": [
    "# 5. (Optional) Preview some predictions\n",
    "preview = pd.DataFrame({\n",
    "    \"Actual\": y_true[:10],\n",
    "    \"Predicted\": y_pred[:10]\n",
    "})\n",
    "print(\"\\nPreview of predictions:\")\n",
    "print(preview)"
   ]
  },
  {
   "cell_type": "code",
   "execution_count": 14,
   "id": "8052db98",
   "metadata": {},
   "outputs": [
    {
     "name": "stdout",
     "output_type": "stream",
     "text": [
      "Manual input prediction:\n",
      "Input: [1. 1. 1. 1.]\n",
      "Predicted variety: Setosa\n"
     ]
    }
   ],
   "source": [
    "# 6. Manual data input for testing (keyboard input)\n",
    "import numpy as np\n",
    "\n",
    "# Prompt user for input: 4 floats separated by spaces\n",
    "input_str = input(\"Enter 4 features (sepal_length sepal_width petal_length petal_width), separated by spaces: \")\n",
    "try:\n",
    "    manual_input = np.array([list(map(float, input_str.strip().split()))])\n",
    "    if manual_input.shape != (1, 4):\n",
    "        raise ValueError\n",
    "except ValueError:\n",
    "    print(\"Invalid input. Please enter exactly 4 float values separated by spaces.\")\n",
    "else:\n",
    "    # Predict using the trained model\n",
    "    manual_pred_encoded = model.predict(manual_input)\n",
    "    manual_pred = le.inverse_transform(manual_pred_encoded)\n",
    "    print(\"Manual input prediction:\")\n",
    "    print(f\"Input: {manual_input[0]}\")\n",
    "    print(f\"Predicted variety: {manual_pred[0]}\")"
   ]
  }
 ],
 "metadata": {
  "kernelspec": {
   "display_name": "base",
   "language": "python",
   "name": "python3"
  },
  "language_info": {
   "codemirror_mode": {
    "name": "ipython",
    "version": 3
   },
   "file_extension": ".py",
   "mimetype": "text/x-python",
   "name": "python",
   "nbconvert_exporter": "python",
   "pygments_lexer": "ipython3",
   "version": "3.13.7"
  }
 },
 "nbformat": 4,
 "nbformat_minor": 5
}
